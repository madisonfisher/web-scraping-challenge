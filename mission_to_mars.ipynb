{
 "cells": [
  {
   "cell_type": "code",
   "execution_count": 1,
   "metadata": {},
   "outputs": [],
   "source": [
    "#dependencies\n",
    "from splinter import Browser\n",
    "from bs4 import BeautifulSoup\n",
    "from webdriver_manager.chrome import ChromeDriverManager\n",
    "import pandas as pd"
   ]
  },
  {
   "cell_type": "code",
   "execution_count": 2,
   "metadata": {},
   "outputs": [
    {
     "name": "stderr",
     "output_type": "stream",
     "text": [
      "\n",
      "\n",
      "====== WebDriver manager ======\n",
      "Current google-chrome version is 90.0.4430\n",
      "Get LATEST driver version for 90.0.4430\n",
      "Driver [/Users/Madison/.wdm/drivers/chromedriver/mac64/90.0.4430.24/chromedriver] found in cache\n"
     ]
    }
   ],
   "source": [
    "#start up browser\n",
    "executable_path = {'executable_path': ChromeDriverManager().install()}\n",
    "browser = Browser('chrome', **executable_path, headless=True)"
   ]
  },
  {
   "cell_type": "code",
   "execution_count": 3,
   "metadata": {},
   "outputs": [],
   "source": [
    "#NASA Mars News\n",
    "url1 = \"https://redplanetscience.com/\"\n",
    "browser.visit(url1)\n",
    "#start up parser\n",
    "html = browser.html\n",
    "soup = BeautifulSoup(html, \"html.parser\")\n",
    "#scrape the first headline and paragraph \n",
    "NASA_title = soup.find(\"div\", class_=\"content_title\").get_text() \n",
    "NASA_par = soup.find(\"div\", class_=\"article_teaser_body\").get_text() "
   ]
  },
  {
   "cell_type": "code",
   "execution_count": 4,
   "metadata": {},
   "outputs": [],
   "source": [
    "#JPL Mars Space Images - Featured Image\n",
    "url2 = \"https://spaceimages-mars.com/\"\n",
    "browser.visit(url2)\n",
    "#start up parser\n",
    "html = browser.html\n",
    "soup = BeautifulSoup(html, \"html.parser\")\n",
    "#pull the featured image\n",
    "featured_image = soup.find(\"img\", class_=\"headerimage fade-in\")['src']\n",
    "featured_image_url = url2 + featured_image"
   ]
  },
  {
   "cell_type": "code",
   "execution_count": 5,
   "metadata": {},
   "outputs": [],
   "source": [
    "#Mars Facts - Table\n",
    "url3 = \"https://galaxyfacts-mars.com/\"\n",
    "mars_tables = pd.read_html(url3)\n",
    "#only want the table on Mars\n",
    "mars_table = mars_tables[1]\n",
    "mars_table = mars_table.rename(columns = {0:\"Fact\", 1:\"Data\"})\n",
    "html_mars_table = mars_table.to_html()"
   ]
  },
  {
   "cell_type": "code",
   "execution_count": 6,
   "metadata": {},
   "outputs": [],
   "source": [
    "#Mars Hemispheres\n",
    "url4 = \"https://marshemispheres.com/\"\n",
    "browser.visit(url4)\n",
    "#start up parser\n",
    "html = browser.html\n",
    "soup = BeautifulSoup(html, \"html.parser\")\n",
    "#starting lists/dictonaries\n",
    "hem_titles = []\n",
    "hem_urls = []\n",
    "#pulling hemisphere names\n",
    "for hem_title in soup.findAll(\"h3\"):\n",
    "    hem_titles.append(hem_title.get_text())\n",
    "#removing back from list\n",
    "hem_titles.pop()\n",
    "\n",
    "#running through hemisphere pages to grab pictures \n",
    "for hem_title in hem_titles:\n",
    "    browser.links.find_by_partial_text(hem_title).click()\n",
    "    html = browser.html\n",
    "    soup = BeautifulSoup(html, \"html.parser\")\n",
    "    base_hem_url = soup.find(\"img\", class_=\"wide-image\")['src']\n",
    "    hem_url = url4 + base_hem_url\n",
    "    hem_urls.append(hem_url)\n",
    "    #going back to the main page to grab the next one\n",
    "    browser.links.find_by_partial_text('Back').click()\n",
    "\n",
    "#moving lists into dictonary and then adding labels by processing it through a dataframe\n",
    "base_dict = dict(zip(hem_titles, hem_urls))\n",
    "hem_dict = pd.DataFrame(list(base_dict.items()),columns=[\"title\", \"img_url\"])\n",
    "hemisphere_image_urls = hem_dict.to_dict('records')"
   ]
  },
  {
   "cell_type": "code",
   "execution_count": 7,
   "metadata": {},
   "outputs": [],
   "source": [
    "#finish scraping \n",
    "browser.quit()"
   ]
  }
 ],
 "metadata": {
  "kernelspec": {
   "display_name": "Python [conda env:PythonData] *",
   "language": "python",
   "name": "conda-env-PythonData-py"
  },
  "language_info": {
   "codemirror_mode": {
    "name": "ipython",
    "version": 3
   },
   "file_extension": ".py",
   "mimetype": "text/x-python",
   "name": "python",
   "nbconvert_exporter": "python",
   "pygments_lexer": "ipython3",
   "version": "3.6.10"
  }
 },
 "nbformat": 4,
 "nbformat_minor": 4
}
